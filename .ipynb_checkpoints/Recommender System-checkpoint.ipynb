{
 "cells": [
  {
   "cell_type": "markdown",
   "id": "d1d87c2a-4fd8-4e27-9b84-524fa77ce79e",
   "metadata": {
    "tags": []
   },
   "source": [
    "# Music Recommendation System\n",
    "\n",
    "## Description\n",
    "\n",
    "This project will create a recommendation system that will recommend music artists to a user based on their listening history. To create this system we'll be using Spark and the collaborative filtering technique. "
   ]
  },
  {
   "cell_type": "code",
   "execution_count": 1,
   "id": "defd6e02-d6a0-4ecc-8ad2-f5f5ab7b8e1a",
   "metadata": {},
   "outputs": [],
   "source": [
    "# import the necessary libraries\n",
    "import findspark\n",
    "findspark.init()\n",
    "\n",
    "from pyspark.mllib.recommendation import *\n",
    "import random\n",
    "from operator import *\n",
    "from collections import defaultdict\n",
    "from pyspark import SparkContext"
   ]
  },
  {
   "cell_type": "code",
   "execution_count": 2,
   "id": "89cfcc73-f672-4e34-870f-921a9e151e2f",
   "metadata": {},
   "outputs": [],
   "source": [
    "# Initialize Spark Context\n",
    "spark = SparkContext('local', 'music_recommender')"
   ]
  },
  {
   "cell_type": "markdown",
   "id": "52536c14-f6ea-4a27-b753-d081a5b9c812",
   "metadata": {},
   "source": [
    "## Loading the data\n",
    "\n",
    "We'll load in the data into three different RDDs."
   ]
  },
  {
   "cell_type": "code",
   "execution_count": 3,
   "id": "b36d2523-43c4-4230-901b-c78b87acc4fb",
   "metadata": {},
   "outputs": [],
   "source": [
    "# Import test files from location into RDD variables\n",
    "\n",
    "artistData = spark.textFile('data/artist_data_small.txt')            \n",
    "artistAlias = spark.textFile('data/artist_alias_small.txt')\n",
    "userArtistData = spark.textFile('data/user_artist_data_small.txt')"
   ]
  },
  {
   "cell_type": "markdown",
   "id": "e9f776ff-4a78-46b6-95de-79e212847df9",
   "metadata": {},
   "source": [
    "## Data Exploration\n",
    "\n",
    "In this section we'll clean the data a little and find the top 3 users with the most total play counts and their mean play count for an artist."
   ]
  },
  {
   "cell_type": "code",
   "execution_count": 4,
   "id": "27f1fc6f-5bdd-4f9d-9221-62349475e04e",
   "metadata": {},
   "outputs": [],
   "source": [
    "#Reading the artist data \n",
    "artistData = artistData.map(lambda row: row.split('\\t'))\n",
    "artistData = artistData.map(lambda row: (int(row[0]),row[1]))\n",
    "\n",
    "# Reading the artistAlias data\n",
    "artistAlias = artistAlias.map(lambda row: row.split('\\t'))\n",
    "artistAlias = artistAlias.map(lambda row: (int(row[0]),int(row[1])))\n",
    "\n",
    "# Reading the userArtistData and storing them in the variables\n",
    "userArtistData = userArtistData.map(lambda row: row.split(' '))\n",
    "userArtistData = userArtistData.map(lambda row: (int(row[0]),int(row[1]),int(row[2])))"
   ]
  },
  {
   "cell_type": "code",
   "execution_count": 5,
   "id": "94395fce-6ea4-4f69-9973-7eed5df969c6",
   "metadata": {},
   "outputs": [
    {
     "name": "stdout",
     "output_type": "stream",
     "text": [
      "[(1240105, 'André Visior'), (1240113, 'riow arai'), (1240132, 'Outkast & Rage Against the Machine'), (6776115, '小松正夫'), (1030848, \"Raver's Nature\")]\n"
     ]
    }
   ],
   "source": [
    "# show the first 5 rows of the artistData dataset\n",
    "print(artistData.take(5))"
   ]
  },
  {
   "cell_type": "code",
   "execution_count": 6,
   "id": "c805e4bf-76d8-4f3a-bcd2-2361784738d0",
   "metadata": {},
   "outputs": [
    {
     "name": "stdout",
     "output_type": "stream",
     "text": [
      "[(1027859, 1252408), (1017615, 668), (6745885, 1268522), (1018110, 1018110), (1014609, 1014609)]\n"
     ]
    }
   ],
   "source": [
    "# show the first 5 rows of the artistAlias dataset\n",
    "print(artistAlias.take(5))"
   ]
  },
  {
   "cell_type": "code",
   "execution_count": 7,
   "id": "ba321c2f-5ab7-4f79-83cc-27b0a4b026d9",
   "metadata": {},
   "outputs": [
    {
     "name": "stdout",
     "output_type": "stream",
     "text": [
      "[(1059637, 1000010, 238), (1059637, 1000049, 1), (1059637, 1000056, 1), (1059637, 1000062, 11), (1059637, 1000094, 1)]\n"
     ]
    }
   ],
   "source": [
    "# show the first 5 rows of the userArtistData dataset\n",
    "print(userArtistData.take(5))"
   ]
  },
  {
   "cell_type": "code",
   "execution_count": 8,
   "id": "825bd013-418c-439a-a279-3d2e8cdf0076",
   "metadata": {},
   "outputs": [
    {
     "name": "stdout",
     "output_type": "stream",
     "text": [
      "artistData rows: 30537\n",
      "userArtistData rows: 49481\n",
      "artistAlias rows: 587\n"
     ]
    }
   ],
   "source": [
    "# check the number of rows in each dataset\n",
    "print('artistData rows:', artistData.count())\n",
    "print('userArtistData rows:', userArtistData.count())\n",
    "print('artistAlias rows:', artistAlias.count())"
   ]
  },
  {
   "cell_type": "code",
   "execution_count": 9,
   "id": "705742e2-755c-4ae7-afe0-d52539692372",
   "metadata": {},
   "outputs": [
    {
     "name": "stdout",
     "output_type": "stream",
     "text": [
      "User 1059637 has a total play count of 674412 and a mean play count of 1878.\n",
      "User 2064012 has a total play count of 548427 and a mean play count of 9455.\n",
      "User 2069337 has a total play count of 393515 and a mean play count of 1519.\n"
     ]
    }
   ],
   "source": [
    "# create a dictionary of the artistAlias dataset\n",
    "artistAlias_dic={}\n",
    "for key,val in artistAlias.collect():\n",
    "    if key not in artistAlias_dic:\n",
    "        artistAlias_dic[key]=val\n",
    "\n",
    "# if the artistid exists, replace the artistid from artistAlias, otherwise use the orginial value\n",
    "userArtistData = userArtistData.map(lambda row: (row[0], artistAlias_dic[row[1]], row[2])   \n",
    "                                    if row[1] in artistAlias_dic else (row[0], row[1], row[2])) \n",
    "\n",
    "# create an RDD with the userid and playcount objects of the original tuple\n",
    "rdd = userArtistData.map(lambda row: (row[0],row[2]))  \n",
    "\n",
    "# Count instances by key and store in broadcast variable\n",
    "broadcast_var = spark.broadcast(rdd.countByKey())  \n",
    "\n",
    "# Compute and display users with the highest playcount along with their mean playcount across artists\n",
    "sol = rdd.groupByKey().mapValues(sum)\n",
    "sol = sol.sortBy(lambda item: item[1], ascending=False).take(3)\n",
    "for user, count in sol:\n",
    "    print('User {} has a total play count of {} and a mean play count of {}.'.format(user, count, int(count/ broadcast_var.value[user])))"
   ]
  },
  {
   "cell_type": "markdown",
   "id": "93252585-9519-41d6-938a-1f06116c752c",
   "metadata": {},
   "source": [
    "## Split the Data for Testing\n",
    "\n",
    "We'll use the randomSplit function to divide our data into a training test, validation set, and test set using a random seed value of 55."
   ]
  },
  {
   "cell_type": "code",
   "execution_count": 10,
   "id": "bdcbbd82-1839-4b56-8cab-6407fa860e3c",
   "metadata": {},
   "outputs": [],
   "source": [
    "# split the data with a set seed of 55\n",
    "splits = userArtistData.randomSplit([0.4,0.4,0.2], 55)\n",
    "train = splits[0]\n",
    "test = splits[2]\n",
    "validation = splits[1]"
   ]
  },
  {
   "cell_type": "code",
   "execution_count": 11,
   "id": "20a45300-3320-4b64-8dc3-e21af0100e96",
   "metadata": {},
   "outputs": [
    {
     "name": "stdout",
     "output_type": "stream",
     "text": [
      "Train dataset: [(1059637, 1000049, 1), (1059637, 1000123, 2), (1059637, 1000130, 19129), (1059637, 1000289, 2), (1059637, 1000305, 1)]\n",
      "Test dataset: [(1059637, 1000263, 180), (1059637, 1000527, 1), (1059637, 1000632, 250), (1059637, 1000926, 1), (1059637, 1001249, 2)]\n",
      "Validation dataset: [(1059637, 1000010, 238), (1059637, 1000056, 1), (1059637, 1000062, 11), (1059637, 1000094, 1), (1059637, 1000112, 423)]\n"
     ]
    }
   ],
   "source": [
    "# show the first 5 rows for each dataset to verify the splits are different\n",
    "print('Train dataset:', train.take(5))\n",
    "print('Test dataset:', test.take(5))\n",
    "print('Validation dataset:', validation.take(5))"
   ]
  },
  {
   "cell_type": "code",
   "execution_count": 12,
   "id": "637e6d3c-4d96-486e-958f-6d8faeff620d",
   "metadata": {},
   "outputs": [
    {
     "name": "stdout",
     "output_type": "stream",
     "text": [
      "Train dataset rows: 19782\n",
      "Test dataset rows: 9963\n",
      "Validation dataset rows: 19736\n"
     ]
    }
   ],
   "source": [
    "# show the number of rows in each split of the dataset\n",
    "print('Train dataset rows:', train.count())\n",
    "print('Test dataset rows:', test.count())\n",
    "print('Validation dataset rows:', validation.count())"
   ]
  },
  {
   "cell_type": "markdown",
   "id": "28d25a74-5a43-4095-b24a-4317cfe34e88",
   "metadata": {},
   "source": [
    "## Model\n",
    "\n",
    "We will build a function that will evaluate the model results. The model will predict X number of artist recommendations for a user. The recommendations will be compared to the artists the user has actually listened to. This will be done for all users with the average value returned."
   ]
  },
  {
   "cell_type": "code",
   "execution_count": 13,
   "id": "e1d19c7a-52e0-41bf-bb62-03c92a5a6780",
   "metadata": {},
   "outputs": [],
   "source": [
    "# create a function to evaluate the model\n",
    "def modelEval(model, dataset):\n",
    "    \n",
    "    # All artists in the 'userArtistData' dataset\n",
    "    artist = spark.parallelize(set(userArtistData.map(lambda row: row[1]).collect()))\n",
    "    \n",
    "    # Set of all users in the current (Validation/Testing) dataset\n",
    "    users = dataset.map(lambda row: row[0]).distinct().collect()\n",
    "\n",
    "    # For each user, calculate the prediction score i.e. similarity between predicted and actual artists\n",
    "    score = 0\n",
    "    for user in users:\n",
    "        Artist_data = artist.map(lambda z: (user,z))\n",
    "        artist_train = train.filter(lambda z:z[0]==user)\n",
    "        artist_train = artist_train.map(lambda z:z[1])\n",
    "        \n",
    "        lst_artist_train = artist_train.collect()\n",
    "        artist_predict = Artist_data.filter(lambda z: z[1] not in lst_artist_train)\n",
    "        predictions = model.predictAll(artist_predict)\n",
    "        \n",
    "        artist_dataset = dataset.filter(lambda z: z[0]==user).map(lambda z: z[1])\n",
    "        \n",
    "        predicted = predictions.sortBy(lambda z: z[2], ascending=False).take(artist_dataset.count())\n",
    "        \n",
    "        intersect_1 = set(list(map(lambda x:x[1], predicted)))\n",
    "        intersect_2 = set(artist_dataset.collect())\n",
    " \n",
    "        correct_predictions = set(intersect_1.intersection(intersect_2))\n",
    "        artist_len = artist_dataset.count()\n",
    "        correct_len = len(correct_predictions)\n",
    "        temp = float(correct_len/artist_len)\n",
    "        score += temp\n",
    "    \n",
    "    return float(score/len(users))"
   ]
  },
  {
   "cell_type": "markdown",
   "id": "d20aaeeb-ef91-4f39-8998-e5a1a930e2c7",
   "metadata": {},
   "source": [
    "For this project, the rank parameter will be tested to help see which performs the best on the dataset. Values of 2, 5, 10, and 20 will be tested and a seed of 55 will be used for reproducibility."
   ]
  },
  {
   "cell_type": "code",
   "execution_count": 14,
   "id": "6c3d688c-4edd-482f-b805-07611d8a7c4b",
   "metadata": {},
   "outputs": [
    {
     "name": "stdout",
     "output_type": "stream",
     "text": [
      "The model score for rank 2 is 0.08592256956348664\n",
      "The model score for rank 5 is 0.0909463603579993\n",
      "The model score for rank 10 is 0.09248896954043462\n",
      "The model score for rank 20 is 0.08437272233820214\n"
     ]
    }
   ],
   "source": [
    "rankParameters = [2, 5, 10, 20]\n",
    "for rank in rankParameters:\n",
    "    model = ALS.trainImplicit(train, rank , seed = 55)\n",
    "    score = modelEval(model,validation)\n",
    "    print(\"The model score for rank {} is {}\".format(rank, score))"
   ]
  },
  {
   "cell_type": "markdown",
   "id": "c32bd3f6-988f-4ae2-b5f2-d550f63be03f",
   "metadata": {},
   "source": [
    "The rank parameter of 10 performed the best, so we will use that as our best model"
   ]
  },
  {
   "cell_type": "code",
   "execution_count": null,
   "id": "dbda8e1c-38b1-41ca-a5f6-16bf248cd929",
   "metadata": {},
   "outputs": [],
   "source": [
    "bestModel = ALS.trainImplicit(train, rank=10, seed = 55)\n",
    "modelEval(bestModel, test)"
   ]
  },
  {
   "cell_type": "markdown",
   "id": "4081cf3f-4ca1-4be4-a163-bf1c1b4537b3",
   "metadata": {},
   "source": [
    "## Testing out Artist Recommendations\n",
    "\n",
    "We'll use the three users found earlier to see what their top 5 artist recommendations are"
   ]
  },
  {
   "cell_type": "code",
   "execution_count": null,
   "id": "91f200ec-33fb-49f7-80f7-a5d1e32d6e78",
   "metadata": {},
   "outputs": [],
   "source": [
    "# list the top 5 recommended artists for user 1059637\n",
    "recommend = bestModel.recommendProducts(1059637, 5)\n",
    "solution = [i[1] for i in recommend]\n",
    "artist_dic = artistData.collectAsMap()\n",
    "\n",
    "for i in range(len(solution)):\n",
    "    print('Artist {}: {}'.format(i+1, artist_dic[solution[i]] ))"
   ]
  },
  {
   "cell_type": "code",
   "execution_count": null,
   "id": "e4b320ce-8330-4da2-890f-90d3326fe9e3",
   "metadata": {},
   "outputs": [],
   "source": [
    "# list the top 5 recommended artists for user 2064012\n",
    "recommend = bestModel.recommendProducts(2064012, 5)\n",
    "solution = [i[1] for i in recommend]\n",
    "artist_dic = artistData.collectAsMap()\n",
    "\n",
    "for i in range(len(solution)):\n",
    "    print('Artist {}: {}'.format(i+1, artist_dic[solution[i]] ))"
   ]
  },
  {
   "cell_type": "code",
   "execution_count": null,
   "id": "74003890-421b-4438-89d0-7d3f3b6e229a",
   "metadata": {},
   "outputs": [],
   "source": [
    "# list the top 5 recommended artists for user 2069337 \n",
    "recommend = bestModel.recommendProducts(2069337, 5)\n",
    "solution = [i[1] for i in recommend]\n",
    "artist_dic = artistData.collectAsMap()\n",
    "\n",
    "for i in range(len(solution)):\n",
    "    print('Artist {}: {}'.format(i+1, artist_dic[solution[i]] ))"
   ]
  }
 ],
 "metadata": {
  "kernelspec": {
   "display_name": "Python 3 (ipykernel)",
   "language": "python",
   "name": "python3"
  },
  "language_info": {
   "codemirror_mode": {
    "name": "ipython",
    "version": 3
   },
   "file_extension": ".py",
   "mimetype": "text/x-python",
   "name": "python",
   "nbconvert_exporter": "python",
   "pygments_lexer": "ipython3",
   "version": "3.11.6"
  }
 },
 "nbformat": 4,
 "nbformat_minor": 5
}
